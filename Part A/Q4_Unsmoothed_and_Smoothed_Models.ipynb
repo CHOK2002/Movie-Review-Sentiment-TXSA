{
 "cells": [
  {
   "cell_type": "markdown",
   "metadata": {},
   "source": [
    "### Unsmoothed Bigram model "
   ]
  },
  {
   "cell_type": "code",
   "execution_count": 1,
   "metadata": {},
   "outputs": [
    {
     "name": "stdout",
     "output_type": "stream",
     "text": [
      "Probability of the sentence: 0.07407407407407407\n"
     ]
    }
   ],
   "source": [
    "# calculating bigram probability\n",
    "def calcBigramProb(listOfBigrams, unigramCounts, bigramCounts):\n",
    "    listOfProb = {}\n",
    "    for bigram in listOfBigrams:\n",
    "        word1 = bigram[0]\n",
    "        word2 = bigram[1]\n",
    "        listOfProb[bigram] = (bigramCounts.get(bigram, 0))/(unigramCounts.get(word1, 0))\n",
    "    return listOfProb\n",
    "\n",
    "# corpus (Data_3)\n",
    "corpus = [\n",
    "    \"<s> He read a book </s>\",\n",
    "    \"<s> I read a different book </s>\",\n",
    "    \"<s> He read a book by Danielle </s>\"\n",
    "]\n",
    "\n",
    "# extract bigrams from a list of sentences\n",
    "def extract_bigrams(sentences):\n",
    "    bigrams = []\n",
    "    for sentence in sentences:\n",
    "        words = sentence.split()  # Include <s> and </s> tokens\n",
    "        for i in range(len(words) - 1):\n",
    "            bigrams.append((words[i], words[i+1]))\n",
    "    return bigrams\n",
    "\n",
    "# count unigrams and bigrams\n",
    "unigrams = [word for sentence in corpus for word in sentence.split()]\n",
    "bigrams = extract_bigrams(corpus)\n",
    "\n",
    "unigram_counts = {word: unigrams.count(word) for word in unigrams}\n",
    "bigram_counts = {bigram: bigrams.count(bigram) for bigram in bigrams}\n",
    "\n",
    "# calculate the probability of the sentence\n",
    "sentence = \"<s> I read a book by Danielle </s>\"\n",
    "sentence_bigrams = extract_bigrams([sentence])\n",
    "\n",
    "bigram_probabilities = calcBigramProb(sentence_bigrams, unigram_counts, bigram_counts)\n",
    "\n",
    "# compute the probability \n",
    "sentence_probability = 1\n",
    "for bigram in sentence_bigrams:\n",
    "    sentence_probability *= bigram_probabilities.get(bigram, 0)\n",
    "\n",
    "print(\"Probability of the sentence:\", sentence_probability)\n"
   ]
  },
  {
   "cell_type": "markdown",
   "metadata": {},
   "source": [
    "### Smoothed Bigram model"
   ]
  },
  {
   "cell_type": "code",
   "execution_count": 2,
   "metadata": {},
   "outputs": [
    {
     "name": "stdout",
     "output_type": "stream",
     "text": [
      "Probability of the sentence: 5.784626775880419e-06\n"
     ]
    }
   ],
   "source": [
    "def smoothedBigramProb(listOfBigrams, unigramCounts, bigramCounts, vocabulary_size):\n",
    "    listOfProb = {}\n",
    "    for bigram in listOfBigrams:\n",
    "        word1 = bigram[0]\n",
    "        word2 = bigram[1]\n",
    "        count_bigram = bigramCounts.get(bigram, 0)\n",
    "        count_unigram = unigramCounts.get(word1, 0)\n",
    "        # apply laplace smoothing\n",
    "        prob = (count_bigram + 1) / (count_unigram + vocabulary_size + 1)\n",
    "        listOfProb[bigram] = prob\n",
    "    return listOfProb\n",
    "\n",
    "#  corpus (Data_3)\n",
    "corpus = [\n",
    "    \"<s> He read a book </s>\",\n",
    "    \"<s> I read a different book </s>\",\n",
    "    \"<s> He read a book by Danielle </s>\"\n",
    "]\n",
    "\n",
    "# extract bigrams from a list of sentences\n",
    "def extract_bigrams(sentences):\n",
    "    bigrams = []\n",
    "    for sentence in sentences:\n",
    "        words = sentence.split()  # to include <s> and </s> tokens\n",
    "        for i in range(len(words) - 1):\n",
    "            bigrams.append((words[i], words[i+1]))\n",
    "    return bigrams\n",
    "\n",
    "# count unigrams and bigrams\n",
    "unigrams = [word for sentence in corpus for word in sentence.split()]\n",
    "bigrams = extract_bigrams(corpus)\n",
    "vocabulary_size = len(set(unigrams))  # Vocabulary size for Laplace smoothing , in this case its 10\n",
    "\n",
    "unigram_counts = {word: unigrams.count(word) for word in unigrams}\n",
    "bigram_counts = {bigram: bigrams.count(bigram) for bigram in bigrams}\n",
    "\n",
    "# calculate the probability of the sentence\n",
    "sentence = \"<s> I read a book by Danielle </s>\"\n",
    "sentence_bigrams = extract_bigrams([sentence])\n",
    "\n",
    "smoothed_bigram_probabilities = smoothedBigramProb(sentence_bigrams, unigram_counts, bigram_counts, vocabulary_size)\n",
    "\n",
    "# compute the probability \n",
    "sentence_probability = 1\n",
    "for bigram in sentence_bigrams:\n",
    "    sentence_probability *= smoothed_bigram_probabilities.get(bigram, 1/(vocabulary_size))  # Default to 1/V if bigram not found\n",
    "\n",
    "print(\"Probability of the sentence:\", sentence_probability)\n"
   ]
  }
 ],
 "metadata": {
  "kernelspec": {
   "display_name": "txsa",
   "language": "python",
   "name": "python3"
  },
  "language_info": {
   "codemirror_mode": {
    "name": "ipython",
    "version": 3
   },
   "file_extension": ".py",
   "mimetype": "text/x-python",
   "name": "python",
   "nbconvert_exporter": "python",
   "pygments_lexer": "ipython3",
   "version": "3.11.3"
  }
 },
 "nbformat": 4,
 "nbformat_minor": 2
}
