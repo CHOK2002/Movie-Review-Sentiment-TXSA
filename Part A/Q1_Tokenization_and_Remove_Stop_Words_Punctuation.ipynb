{
 "cells": [
  {
   "cell_type": "markdown",
   "metadata": {},
   "source": [
    "## Load the Data_1"
   ]
  },
  {
   "cell_type": "code",
   "execution_count": 1,
   "metadata": {},
   "outputs": [
    {
     "name": "stdout",
     "output_type": "stream",
     "text": [
      "Classification is the task of choosing the correct class label for a given input. In basic\n",
      "classification tasks, each input is considered in isolation from all other inputs, and the set of labels is defined in advance. The basic classification task has a number of interesting variants. For example, in multiclass classification, each instance may be assigned multiple labels; in open-class classification, the set of labels is not defined in advance; and in sequence classification, a list of inputs are jointly classified.\n"
     ]
    }
   ],
   "source": [
    "# Define the path to the file inside the assignment_data folder\n",
    "file_path = 'Assignment Data/Data_1.txt'\n",
    "\n",
    "# Read and display the content of the file\n",
    "with open(file_path, 'r') as file:\n",
    "    data1 = file.read()\n",
    "\n",
    "print(data1)\n"
   ]
  },
  {
   "cell_type": "markdown",
   "metadata": {},
   "source": [
    "## Tokenization Using Split, Re and NLTK Functions"
   ]
  },
  {
   "cell_type": "code",
   "execution_count": 2,
   "metadata": {},
   "outputs": [
    {
     "name": "stdout",
     "output_type": "stream",
     "text": [
      "\n",
      "Using Split Function :  82 tokens\n",
      "['Classification', 'is', 'the', 'task', 'of', 'choosing', 'the', 'correct', 'class', 'label', 'for', 'a', 'given', 'input.', 'In', 'basic', 'classification', 'tasks,', 'each', 'input', 'is', 'considered', 'in', 'isolation', 'from', 'all', 'other', 'inputs,', 'and', 'the', 'set', 'of', 'labels', 'is', 'defined', 'in', 'advance.', 'The', 'basic', 'classification', 'task', 'has', 'a', 'number', 'of', 'interesting', 'variants.', 'For', 'example,', 'in', 'multiclass', 'classification,', 'each', 'instance', 'may', 'be', 'assigned', 'multiple', 'labels;', 'in', 'open-class', 'classification,', 'the', 'set', 'of', 'labels', 'is', 'not', 'defined', 'in', 'advance;', 'and', 'in', 'sequence', 'classification,', 'a', 'list', 'of', 'inputs', 'are', 'jointly', 'classified.']\n",
      "\n",
      "Using Regular Expression Function :  93 tokens\n",
      "['Classification', 'is', 'the', 'task', 'of', 'choosing', 'the', 'correct', 'class', 'label', 'for', 'a', 'given', 'input', '.', 'In', 'basic', 'classification', 'tasks', ',', 'each', 'input', 'is', 'considered', 'in', 'isolation', 'from', 'all', 'other', 'inputs', ',', 'and', 'the', 'set', 'of', 'labels', 'is', 'defined', 'in', 'advance', '.', 'The', 'basic', 'classification', 'task', 'has', 'a', 'number', 'of', 'interesting', 'variants', '.', 'For', 'example', ',', 'in', 'multiclass', 'classification', ',', 'each', 'instance', 'may', 'be', 'assigned', 'multiple', 'labels', 'in', 'open', 'class', 'classification', ',', 'the', 'set', 'of', 'labels', 'is', 'not', 'defined', 'in', 'advance', 'and', 'in', 'sequence', 'classification', ',', 'a', 'list', 'of', 'inputs', 'are', 'jointly', 'classified', '.']\n",
      "\n",
      "Using NLTK Function :  94 tokens\n",
      "['Classification', 'is', 'the', 'task', 'of', 'choosing', 'the', 'correct', 'class', 'label', 'for', 'a', 'given', 'input', '.', 'In', 'basic', 'classification', 'tasks', ',', 'each', 'input', 'is', 'considered', 'in', 'isolation', 'from', 'all', 'other', 'inputs', ',', 'and', 'the', 'set', 'of', 'labels', 'is', 'defined', 'in', 'advance', '.', 'The', 'basic', 'classification', 'task', 'has', 'a', 'number', 'of', 'interesting', 'variants', '.', 'For', 'example', ',', 'in', 'multiclass', 'classification', ',', 'each', 'instance', 'may', 'be', 'assigned', 'multiple', 'labels', ';', 'in', 'open-class', 'classification', ',', 'the', 'set', 'of', 'labels', 'is', 'not', 'defined', 'in', 'advance', ';', 'and', 'in', 'sequence', 'classification', ',', 'a', 'list', 'of', 'inputs', 'are', 'jointly', 'classified', '.']\n"
     ]
    }
   ],
   "source": [
    "# Split function\n",
    "split_function = data1.split()\n",
    "print(\"\\nUsing Split Function : \", len(split_function), \"tokens\") # NOTE: This can't slit those stop words with the letters\n",
    "print(split_function)\n",
    "\n",
    "# Regular Expression (Re) Function\n",
    "import re\n",
    "pattern = r\"\\b\\w+(?:’\\w+)?\\b|[.,:]\"\n",
    "tokens_regex = re.findall(pattern, data1) \n",
    "print(\"\\nUsing Regular Expression Function : \", len(tokens_regex), \"tokens\")\n",
    "print(tokens_regex)\n",
    "\n",
    "# NLTK Function\n",
    "from nltk.tokenize import word_tokenize\n",
    "tokens_nltk = word_tokenize(data1)\n",
    "print(\"\\nUsing NLTK Function : \", len(tokens_nltk),\"tokens\")\n",
    "print(tokens_nltk)"
   ]
  },
  {
   "cell_type": "markdown",
   "metadata": {},
   "source": [
    "## Removing Stop Words and Punctuations"
   ]
  },
  {
   "cell_type": "code",
   "execution_count": 3,
   "metadata": {},
   "outputs": [
    {
     "name": "stdout",
     "output_type": "stream",
     "text": [
      "************************* Count *************************\n",
      "Cleaned Text:  46\n",
      "['classification', 'task', 'choosing', 'correct', 'class', 'label', 'given', 'input', 'basic', 'classification', 'tasks', 'input', 'considered', 'isolation', 'inputs', 'set', 'labels', 'defined', 'advance', 'basic', 'classification', 'task', 'number', 'interesting', 'variants', 'example', 'multiclass', 'classification', 'instance', 'may', 'assigned', 'multiple', 'labels', 'open', 'class', 'classification', 'set', 'labels', 'defined', 'advance', 'sequence', 'classification', 'list', 'inputs', 'jointly', 'classified']\n",
      "Stop words:  37\n",
      "['is', 'the', 'of', 'the', 'for', 'a', 'in', 'each', 'is', 'in', 'from', 'all', 'other', 'and', 'the', 'of', 'is', 'in', 'the', 'has', 'a', 'of', 'for', 'in', 'each', 'be', 'in', 'the', 'of', 'is', 'not', 'in', 'and', 'in', 'a', 'of', 'are']\n",
      "Punctuations: 10\n",
      "['.', ',', ',', '.', '.', ',', ',', ',', ',', '.']\n"
     ]
    },
    {
     "name": "stderr",
     "output_type": "stream",
     "text": [
      "[nltk_data] Downloading package stopwords to\n",
      "[nltk_data]     C:\\Users\\ChokJoe\\AppData\\Roaming\\nltk_data...\n",
      "[nltk_data]   Package stopwords is already up-to-date!\n",
      "[nltk_data] Downloading package punkt to\n",
      "[nltk_data]     C:\\Users\\ChokJoe\\AppData\\Roaming\\nltk_data...\n",
      "[nltk_data]   Package punkt is already up-to-date!\n"
     ]
    }
   ],
   "source": [
    "import nltk\n",
    "import string\n",
    "from nltk.corpus import stopwords\n",
    "import re\n",
    "\n",
    "nltk.download('stopwords')\n",
    "nltk.download('punkt')\n",
    "\n",
    "\n",
    "def remove_stop_punc_regex(text):\n",
    "    # lowercase the text\n",
    "    text = text.lower()\n",
    "\n",
    "    # Tokenize the text using the regular expression pattern\n",
    "    pattern = r\"\\b\\w+(?:’\\w)?\\b|[.,:]\"\n",
    "    tokens_regex = re.findall(pattern, text)\n",
    "    \n",
    "    # Remove stop words\n",
    "    stop_words = set(stopwords.words('english'))\n",
    "    filtered_words = [w for w in tokens_regex if w.lower() not in stop_words]\n",
    "    cap_stop_words = [w for w in tokens_regex if w.lower() in stop_words] \n",
    "    # Remove punctuation\n",
    "    text_clean_punc =[w for w in filtered_words if w not in string.punctuation]\n",
    "    cap_stop_punc  =[w for w in filtered_words if w in string.punctuation] \n",
    "    return text_clean_punc,cap_stop_words,cap_stop_punc\n",
    "\n",
    "cleaned_text_regex,stop_words,punc_sign = remove_stop_punc_regex(data1)\n",
    "\n",
    "\n",
    "print('*'*25,'Count','*'*25)\n",
    "counter =0\n",
    "for w in cleaned_text_regex:\n",
    "    counter+=1\n",
    "print('Cleaned Text: ',counter)\n",
    "print(cleaned_text_regex)\n",
    "\n",
    "counter1 =0\n",
    "for w in stop_words:\n",
    "    counter1+=1\n",
    "print('Stop words: ',counter1)\n",
    "print(stop_words)\n",
    "\n",
    "counter2 =0\n",
    "for s in punc_sign:\n",
    "    counter2+=1\n",
    "print('Punctuations:',counter2)\n",
    "print(punc_sign)\n"
   ]
  }
 ],
 "metadata": {
  "kernelspec": {
   "display_name": "txsa_env",
   "language": "python",
   "name": "python3"
  },
  "language_info": {
   "codemirror_mode": {
    "name": "ipython",
    "version": 3
   },
   "file_extension": ".py",
   "mimetype": "text/x-python",
   "name": "python",
   "nbconvert_exporter": "python",
   "pygments_lexer": "ipython3",
   "version": "3.11.3"
  }
 },
 "nbformat": 4,
 "nbformat_minor": 2
}
